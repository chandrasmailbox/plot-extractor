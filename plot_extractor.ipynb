from plot_extractor import process_layout_image

# Upload your image using Jupyter's upload button
image_path = 'your_uploaded_image.jpg'
plots = process_layout_image(image_path)