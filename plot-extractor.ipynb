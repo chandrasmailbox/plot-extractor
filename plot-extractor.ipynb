import cv2
import pytesseract
import numpy as np

# Path to Tesseract executable (update this if needed)
#pytesseract.pytesseract.tesseract_cmd = r'C:\Program Files\Tesseract-OCR\tesseract.exe'  # Change for your system

# Load the image
image_path = 'layout.jpg'  # Use the path to your image
image = cv2.imread(image_path)

# Step 1: Convert the image to grayscale
gray = cv2.cvtColor(image, cv2.COLOR_BGR2GRAY)

# Step 2: Apply GaussianBlur to reduce noise
blurred = cv2.GaussianBlur(gray, (5, 5), 0)

# Step 3: Use Canny edge detection to find edges
edges = cv2.Canny(blurred, 100, 200)

# Step 4: Find contours in the edge-detected image
contours, _ = cv2.findContours(edges, cv2.RETR_EXTERNAL, cv2.CHAIN_APPROX_SIMPLE)

# Step 5: Draw the contours (representing plot borders)
output_image = image.copy()

for contour in contours:
    # Approximate the contour to a polygon
    epsilon = 0.02 * cv2.arcLength(contour, True)
    approx = cv2.approxPolyDP(contour, epsilon, True)
    
    if len(approx) == 4:  # Filter to keep only quadrilateral contours (representing plot borders)
        cv2.drawContours(output_image, [approx], -1, (0, 255, 0), 3)  # Green contour

# Step 6: Use OCR to detect text (plot numbers) from the image
# Convert the image to grayscale (for better OCR accuracy)
gray_for_ocr = cv2.cvtColor(image, cv2.COLOR_BGR2GRAY)
# Threshold or preprocess image to enhance text recognition
_, thresh = cv2.threshold(gray_for_ocr, 150, 255, cv2.THRESH_BINARY)

# Use pytesseract to extract text
custom_config = r'--oem 3 --psm 6'  # OCR Engine Mode (OEM) 3 (both LSTM and Tesseract) and PSM 6 (Assume a single uniform block of text)
text = pytesseract.image_to_string(thresh, config=custom_config)

# Step 7: Print the extracted text (plot numbers)
print("Detected Text (Plot Numbers):")
print(text)

# Optionally, draw the detected plot numbers on the image
# Use pytesseract to get bounding boxes for each word (plot number)
detection_boxes = pytesseract.image_to_boxes(thresh, config=custom_config)

# Draw boxes and plot numbers
for box in detection_boxes.splitlines():
    b = box.split()
    x, y, w, h = int(b[1]), int(b[2]), int(b[3]), int(b[4])  # Coordinates of the detected text box
    cv2.rectangle(output_image, (x, y), (w, h), (0, 0, 255), 2)  # Draw red box
    cv2.putText(output_image, b[0], (x, y - 10), cv2.FONT_HERSHEY_SIMPLEX, 0.8, (255, 0, 0), 2)

# Step 8: Display the image with detected plot numbers
# cv2.imshow("Detected Plot Borders and Numbers", output_image)
# cv2.waitKey(0)
# cv2.destroyAllWindows()

# Optionally, save the output image
cv2.imwrite('output_image_with_plot_borders_and_numbers.jpg', output_image)
